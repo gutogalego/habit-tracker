{
 "cells": [
  {
   "cell_type": "code",
   "execution_count": 1,
   "id": "d7d54fac-7927-4dcb-a2e7-6b4c96e4559b",
   "metadata": {},
   "outputs": [
    {
     "data": {
      "text/plain": [
       "1"
      ]
     },
     "execution_count": 1,
     "metadata": {},
     "output_type": "execute_result"
    }
   ],
   "source": [
    "1 or 0"
   ]
  },
  {
   "cell_type": "code",
   "execution_count": 2,
   "id": "b589959f-d493-4f24-b821-a69489f8b5e3",
   "metadata": {},
   "outputs": [
    {
     "data": {
      "text/plain": [
       "3"
      ]
     },
     "execution_count": 2,
     "metadata": {},
     "output_type": "execute_result"
    }
   ],
   "source": [
    "3 or 0"
   ]
  },
  {
   "cell_type": "code",
   "execution_count": 6,
   "id": "5748ca8d-c93d-40d5-9757-50bfd25e9a60",
   "metadata": {},
   "outputs": [
    {
     "data": {
      "text/plain": [
       "True"
      ]
     },
     "execution_count": 6,
     "metadata": {},
     "output_type": "execute_result"
    }
   ],
   "source": [
    "True or 1/0 or () or 0"
   ]
  },
  {
   "cell_type": "code",
   "execution_count": 8,
   "id": "25d45df5-cfc6-4cc1-949e-3b767feaccad",
   "metadata": {},
   "outputs": [
    {
     "data": {
      "text/plain": [
       "()"
      ]
     },
     "execution_count": 8,
     "metadata": {},
     "output_type": "execute_result"
    }
   ],
   "source": [
    "1 and 1 and ()"
   ]
  },
  {
   "cell_type": "code",
   "execution_count": 20,
   "id": "a869aaf2-1b17-4e2e-8602-ab438622b169",
   "metadata": {},
   "outputs": [],
   "source": [
    "y = 10\n",
    "z = 10"
   ]
  },
  {
   "cell_type": "code",
   "execution_count": 22,
   "id": "dde2977b-ecbc-449f-bd65-011c61f18c3e",
   "metadata": {},
   "outputs": [
    {
     "data": {
      "text/plain": [
       "('0x102cf0210', '0x102cf0210', '0x102cf0210')"
      ]
     },
     "execution_count": 22,
     "metadata": {},
     "output_type": "execute_result"
    }
   ],
   "source": [
    "hex(id(10)), hex(id(y)), hex(id(z))"
   ]
  },
  {
   "cell_type": "code",
   "execution_count": 15,
   "id": "f53c49cd-1ab7-403d-a1ee-7d59908a3786",
   "metadata": {},
   "outputs": [],
   "source": [
    "v = 3_000"
   ]
  },
  {
   "cell_type": "code",
   "execution_count": 16,
   "id": "b875f664-4715-4896-a5d6-af9f39567bf6",
   "metadata": {},
   "outputs": [
    {
     "data": {
      "text/plain": [
       "('0x10699ec70', '0x10699c150')"
      ]
     },
     "execution_count": 16,
     "metadata": {},
     "output_type": "execute_result"
    }
   ],
   "source": [
    "hex(id(3_000)), hex(id(v))"
   ]
  },
  {
   "cell_type": "code",
   "execution_count": 24,
   "id": "d9d25c1b-5aa5-4556-9cd9-6a062fc4d56a",
   "metadata": {},
   "outputs": [
    {
     "data": {
      "text/plain": [
       "True"
      ]
     },
     "execution_count": 24,
     "metadata": {},
     "output_type": "execute_result"
    }
   ],
   "source": [
    "y is z"
   ]
  },
  {
   "cell_type": "code",
   "execution_count": 26,
   "id": "f859e7e1-edb4-41a4-935a-13e07c6ebd19",
   "metadata": {},
   "outputs": [],
   "source": [
    "v = 3000\n",
    "x = 3000"
   ]
  },
  {
   "cell_type": "code",
   "execution_count": 27,
   "id": "03989fc0-4c69-4cac-a17f-d36460a13e20",
   "metadata": {},
   "outputs": [
    {
     "data": {
      "text/plain": [
       "False"
      ]
     },
     "execution_count": 27,
     "metadata": {},
     "output_type": "execute_result"
    }
   ],
   "source": [
    "v is x"
   ]
  },
  {
   "cell_type": "code",
   "execution_count": 28,
   "id": "a429af69-208e-4670-8b29-f1f311b3c1d0",
   "metadata": {},
   "outputs": [
    {
     "name": "stdout",
     "output_type": "stream",
     "text": [
      "4406698992\n",
      "4406699568\n"
     ]
    }
   ],
   "source": [
    "a = 'hello, world!'\n",
    "b = 'hello, world!'\n",
    "print(id(a))\n",
    "print(id(b))"
   ]
  },
  {
   "cell_type": "code",
   "execution_count": 29,
   "id": "61e397c7-f642-4ce4-9cdf-124e782d5865",
   "metadata": {},
   "outputs": [
    {
     "name": "stdout",
     "output_type": "stream",
     "text": [
      "4405848736\n",
      "4405848736\n"
     ]
    }
   ],
   "source": [
    "a = '_this_is_a_long_string_that_could_be_used_as_an_identifier'\n",
    "b = '_this_is_a_long_string_that_could_be_used_as_an_identifier'\n",
    "print(id(a))\n",
    "print(id(b))"
   ]
  },
  {
   "cell_type": "code",
   "execution_count": 30,
   "id": "32c7a8a8-11c0-433b-8d80-89da97e4c054",
   "metadata": {},
   "outputs": [],
   "source": [
    "import sys"
   ]
  },
  {
   "cell_type": "code",
   "execution_count": 31,
   "id": "34891f25-0567-4374-84ca-07fc7871be96",
   "metadata": {},
   "outputs": [],
   "source": [
    "def compare_using_equals(n):\n",
    "    a = 'Augusto Galego' * 200\n",
    "    b = 'Augusto Galego' * 200\n",
    "    for i in range(n):\n",
    "        if a == b:\n",
    "            pass"
   ]
  },
  {
   "cell_type": "code",
   "execution_count": 32,
   "id": "1fc8f513-262e-472c-a76d-834bb348777a",
   "metadata": {},
   "outputs": [],
   "source": [
    "def compare_using_interning(n):\n",
    "    a = sys.intern('Augusto Galego' * 200)\n",
    "    b = sys.intern('Augusto Galego' * 200)\n",
    "    for i in range(n):\n",
    "        if a is b:\n",
    "            pass"
   ]
  },
  {
   "cell_type": "code",
   "execution_count": 33,
   "id": "ef5c940b-f7c4-4399-bfc6-57830f9950f2",
   "metadata": {},
   "outputs": [
    {
     "name": "stdout",
     "output_type": "stream",
     "text": [
      "equality:  2.020861500001047\n"
     ]
    }
   ],
   "source": [
    "import time\n",
    "\n",
    "start = time.perf_counter()\n",
    "compare_using_equals(10000000)\n",
    "end = time.perf_counter()\n",
    "\n",
    "print('equality: ', end-start)"
   ]
  },
  {
   "cell_type": "code",
   "execution_count": 34,
   "id": "dc331ad1-30d6-4eb0-b837-d47cd1a7278d",
   "metadata": {},
   "outputs": [
    {
     "name": "stdout",
     "output_type": "stream",
     "text": [
      "identity:  0.15962325000145938\n"
     ]
    }
   ],
   "source": [
    "start = time.perf_counter()\n",
    "compare_using_interning(10000000)\n",
    "end = time.perf_counter()\n",
    "\n",
    "print('identity: ', end-start)"
   ]
  },
  {
   "cell_type": "code",
   "execution_count": null,
   "id": "549a0a08-dde4-4e3b-a9fa-98d2f69c6071",
   "metadata": {},
   "outputs": [],
   "source": []
  }
 ],
 "metadata": {
  "kernelspec": {
   "display_name": "Python 3 (ipykernel)",
   "language": "python",
   "name": "python3"
  },
  "language_info": {
   "codemirror_mode": {
    "name": "ipython",
    "version": 3
   },
   "file_extension": ".py",
   "mimetype": "text/x-python",
   "name": "python",
   "nbconvert_exporter": "python",
   "pygments_lexer": "ipython3",
   "version": "3.10.10"
  }
 },
 "nbformat": 4,
 "nbformat_minor": 5
}
